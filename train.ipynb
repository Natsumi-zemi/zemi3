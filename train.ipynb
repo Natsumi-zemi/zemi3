{
  "nbformat": 4,
  "nbformat_minor": 0,
  "metadata": {
    "colab": {
      "name": "train.ipynb",
      "provenance": [],
      "mount_file_id": "1yRwc5a0r_CAgWS2tZKk0DbUbeVIwbJn0",
      "authorship_tag": "ABX9TyMTw64zFnkNEiUVPssmOdTM",
      "include_colab_link": true
    },
    "kernelspec": {
      "name": "python3",
      "display_name": "Python 3"
    }
  },
  "cells": [
    {
      "cell_type": "markdown",
      "metadata": {
        "id": "view-in-github",
        "colab_type": "text"
      },
      "source": [
        "<a href=\"https://colab.research.google.com/github/Natsumi-zemi/zemi3/blob/master/train.ipynb\" target=\"_parent\"><img src=\"https://colab.research.google.com/assets/colab-badge.svg\" alt=\"Open In Colab\"/></a>"
      ]
    },
    {
      "cell_type": "code",
      "metadata": {
        "id": "nf6eY_hNn_zv",
        "colab_type": "code",
        "colab": {}
      },
      "source": [
        "import numpy as np\n",
        "import keras\n",
        "from keras import layers,models\n",
        "from keras import optimizers\n",
        "from keras.utils import np_utils\n",
        "\n",
        "categories=[\"hara\",\"koiwai\",\"shibuno\"]\n",
        "nb_classes=len(categories)\n",
        "\n",
        "Mydribe = \"/content/drive/My Drive/ColabData\"\n",
        "\n",
        "f=np.load(Mydribe + \"/mydatasets.npz\")\n",
        "X_train,Y_train=f['x_train'],f['y_train']\n",
        "X_test,Y_test=f['x_test'],f['y_test']\n",
        "f.close()\n",
        "\n",
        "x_train=X_train.astype(\"float\")/255\n",
        "x_test=X_test.astype(\"float\")/255\n",
        "print(Y_train)\n",
        "print(nb_classes)"
      ],
      "execution_count": null,
      "outputs": []
    },
    {
      "cell_type": "code",
      "metadata": {
        "id": "f8LUAhYMoW9a",
        "colab_type": "code",
        "colab": {}
      },
      "source": [
        ""
      ],
      "execution_count": null,
      "outputs": []
    },
    {
      "cell_type": "code",
      "metadata": {
        "id": "2rklMqRYoSyo",
        "colab_type": "code",
        "colab": {}
      },
      "source": [
        "y_train=np_utils.to_categorical(Y_train,nb_classes)\n",
        "y_test=np_utils.to_categorical(Y_test,nb_classes)\n",
        "\n",
        "model=models.Sequential()\n",
        "model.add(layers.Conv2D(32,(3,3),activation=\"relu\",input_shape=(128,128,3)))\n",
        "model.add(layers.MaxPool2D((2,2)))\n",
        "model.add(layers.Conv2D(64,(3,3),activation=\"relu\"))\n",
        "model.add(layers.MaxPool2D((2,2)))\n",
        "model.add(layers.Conv2D(128,(3,3),activation=\"relu\"))\n",
        "model.add(layers.MaxPool2D((2,2)))\n",
        "model.add(layers.Conv2D(128,(3,3),activation=\"relu\"))\n",
        "model.add(layers.MaxPool2D((2,2)))\n",
        "model.add(layers.Dropout(0.5))\n",
        "model.add(layers.Flatten())\n",
        "model.add(layers.Dense(512,activation=\"relu\"))\n",
        "model.add(layers.Dropout(0.25))\n",
        "model.add(layers.Dense(nb_classes,activation=\"softmax\"))\n",
        "model.summary()\n",
        "\n",
        "json_string=model.to_json()\n",
        "open(Mydribe + \"/train.json\",\"w\").write(json_string)\n",
        "\n",
        "model.compile(loss=\"categorical_crossentropy\",optimizer=\"rmsprop\",metrics=[\"acc\"])\n",
        "\n",
        "model.fit(x_train,y_train,epochs=16,batch_size=128,validation_data=(x_test,y_test))\n",
        "\n",
        "model.save_weights(Mydribe + \"/MyDataSets/train.hdf5\")\n",
        "\n",
        "score=model.evaluate(x_test,y_test,verbose=0)\n",
        "print(\"test loss : \",score[0])\n",
        "print(\"test acc : \",score[1])"
      ],
      "execution_count": null,
      "outputs": []
    }
  ]
}