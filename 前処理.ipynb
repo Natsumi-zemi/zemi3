{
  "nbformat": 4,
  "nbformat_minor": 0,
  "metadata": {
    "colab": {
      "name": "前処理.ipynb",
      "provenance": [],
      "authorship_tag": "ABX9TyOhokpXizwLaxfqBplvjx7Q",
      "include_colab_link": true
    },
    "kernelspec": {
      "name": "python3",
      "display_name": "Python 3"
    }
  },
  "cells": [
    {
      "cell_type": "markdown",
      "metadata": {
        "id": "view-in-github",
        "colab_type": "text"
      },
      "source": [
        "<a href=\"https://colab.research.google.com/github/Natsumi-zemi/zemi3/blob/master/%E5%89%8D%E5%87%A6%E7%90%86.ipynb\" target=\"_parent\"><img src=\"https://colab.research.google.com/assets/colab-badge.svg\" alt=\"Open In Colab\"/></a>"
      ]
    },
    {
      "cell_type": "code",
      "metadata": {
        "id": "rNjKvet3MlUy",
        "colab_type": "code",
        "colab": {}
      },
      "source": [
        "import sys\n",
        "sys.path.append('/content/drive/My Drive/gazobunrui/My_module')\n",
        "\n",
        "import ic_module as ic\n",
        "#ic_module.hello()"
      ],
      "execution_count": 25,
      "outputs": []
    },
    {
      "cell_type": "code",
      "metadata": {
        "id": "IiuHWh6zToYR",
        "colab_type": "code",
        "colab": {
          "base_uri": "https://localhost:8080/",
          "height": 119
        },
        "outputId": "4bd3f978-6608-4291-de48-54b2e0b02754"
      },
      "source": [
        "import importlib\n",
        "importlib.reload(ic)\n",
        "\n",
        "import os.path as op\n",
        "\n",
        "i = 0\n",
        "for filename in ic.FileNames :\n",
        "    # ディレクトリ名入力\n",
        "    while True :\n",
        "        dirname = input(\">>「\" + ic.ClassNames[i] + \"」の画像のあるディレクトリ ： \")\n",
        "        if op.isdir(dirname) :\n",
        "            break\n",
        "        print(\">> そのディレクトリは存在しません！\")\n",
        "\n",
        "    # 関数実行\n",
        "    ic.PreProcess(dirname, filename, var_amount=3)\n",
        "    i += 1"
      ],
      "execution_count": 26,
      "outputs": [
        {
          "output_type": "stream",
          "text": [
            ">>「Yoshizawa」の画像のあるディレクトリ ： /content/drive/My Drive/gazobunrui/colab data/face/Yoshizawa Ryo\n",
            ">> /content/drive/My Drive/gazobunrui/colab data/face/Yoshizawa Ryoから51個のファイル読み込み成功\n",
            ">>「Takasugi」の画像のあるディレクトリ ： /content/drive/My Drive/gazobunrui/colab data/face/Takasugi\n",
            ">> /content/drive/My Drive/gazobunrui/colab data/face/Takasugiから44個のファイル読み込み成功\n",
            ">>「Yamada」の画像のあるディレクトリ ： /content/drive/My Drive/gazobunrui/colab data/face/Yamada Ryosuke\n",
            ">> /content/drive/My Drive/gazobunrui/colab data/face/Yamada Ryosukeから40個のファイル読み込み成功\n"
          ],
          "name": "stdout"
        }
      ]
    },
    {
      "cell_type": "code",
      "metadata": {
        "id": "dCBOgaBjiwT7",
        "colab_type": "code",
        "colab": {}
      },
      "source": [
        ""
      ],
      "execution_count": null,
      "outputs": []
    }
  ]
}